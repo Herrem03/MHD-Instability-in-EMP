{
 "cells": [
  {
   "cell_type": "markdown",
   "metadata": {},
   "source": [
    "# Instabilities in electromagnetic pumps\n",
    "\n",
    "Electromagnetic pumps are considered a reliable option for secondary loop pumping in Sodium Fast Reactor. They require no moving parts. \n",
    "\n",
    "Stability condition has been demonstrated by Gailitis et al. \n",
    "\n",
    "References :\n",
    "[1] Gailitis & al.\n",
    "[2]\n",
    "\n",
    "## Model\n",
    "\n",
    "\n",
    "![Geometry](Geometry.png)\n",
    "\n",
    "The induction equation of vector potential’s tangential component is :\n",
    "\n",
    "\\begin{equation*}\n",
    "\\frac{\\partial^2 A_\\theta }{\\partial r²} + \\frac{1}{r}\\frac{\\partial A_\\theta }{\\partial r} - \\frac{A_\\theta}{r²} + \\frac{\\partial^2 A_\\theta }{\\partial z²} - \\sigma\\mu_0 \\left[  \\frac{\\partial A_\\theta }{\\partial t} + u_z\\frac{\\partial A_\\theta }{\\partial z} \\right] = 0\n",
    "\\end{equation*}\n",
    "\n",
    "The form of the solution is :\n",
    "\n",
    "\\begin{equation*}\n",
    "A_\\theta = A_0(r)e^{i(\\alpha z - \\omega t)}\n",
    "\\end{equation*}\n",
    "\n",
    "It yields :\n",
    "\n",
    "\\begin{equation*}\n",
    "\\frac{\\partial^2 A_0(r) }{\\partial r²} + \\frac{1}{r}\\frac{\\partial A_0(r) }{\\partial r} - \\frac{A_0(r)}{r²} -\\alpha²A_0(r) - \\sigma\\mu_0 \\left[i \\omega A_0(r) - u_z \\alpha i A_0(r) \\right] = 0\n",
    "\\end{equation*}\n",
    "\n",
    "\\begin{equation*}\n",
    "\\frac{\\partial^2 A_0(r) }{\\partial r²} + \\frac{1}{r}\\frac{\\partial A_0(r) }{\\partial r} - \\frac{A_0(r)}{r²} -\\alpha²A_0(r) - \\left[\\alpha² \\left(1 - i \\frac{\\sigma \\mu_0 \\left( \\frac{\\omega}{\\alpha} - u_z \\right)}{\\alpha}\\right) + \\frac{1}{r²} \\right] = 0\n",
    "\\end{equation*}\n",
    "\n",
    "We define :\n",
    "\n",
    "\\begin{equation*}\n",
    "Rm_s = \\frac{\\sigma \\mu_0 \\left( \\frac{\\omega}{\\alpha} - u_z \\right)}{\\alpha}\n",
    "\\end{equation*}\n",
    "\n",
    "\\begin{equation*}\n",
    "m²=\\alpha²(1+i Rm_s)\n",
    "\\end{equation*}\n",
    "\n",
    "Then obtain :\n",
    "\n",
    "\\begin{equation*}\n",
    "\\frac{\\partial^2 A_0(r) }{\\partial r²} + \\frac{1}{r}\\frac{\\partial A_0(r) }{\\partial r} - \\left[m² + \\frac{1}{r²} \\right]A_0(r) = 0\n",
    "\\end{equation*}\n",
    "\n",
    "Which is a modified Bessel equation following the form :\n",
    "\n",
    "\\begin{equation*}\n",
    "y''(x) + \\frac{1}{x}y'(x) - \\left[m² + \\frac{\\nu²}{x²} \\right] y(x) = 0\n",
    "\\end{equation*}\n",
    "\n",
    "The solution follows the form :\n",
    "\n",
    "\\begin{equation*}\n",
    "A_z(r,z,t) = \\left[a_0 I_\\nu(mr) + a_1 K_\\nu (mr) \\right]e^{i(\\alpha z - \\omega t)}\n",
    "m²=\\alpha²(1+i Rm_s)\n",
    "\\end{equation*}\n",
    "\n",
    "With 𝐼𝜈(𝑚𝑟) the modified Bessel function of the  first kind and 𝐾𝜈(𝑚𝑟) the modified Bessel function of the second kind. From the boundary conditions we determine the two coefficients 𝑎0 , 𝑎1:"
   ]
  },
  {
   "cell_type": "code",
   "execution_count": null,
   "metadata": {},
   "outputs": [],
   "source": [
    "#Define constants\n",
    "alpha = 0.33 \n",
    "mu_0 = "
   ]
  },
  {
   "cell_type": "markdown",
   "metadata": {},
   "source": []
  },
  {
   "cell_type": "code",
   "execution_count": null,
   "metadata": {},
   "outputs": [],
   "source": []
  }
 ],
 "metadata": {
  "kernelspec": {
   "display_name": "Python 2",
   "language": "python",
   "name": "python2"
  },
  "language_info": {
   "codemirror_mode": {
    "name": "ipython",
    "version": 2
   },
   "file_extension": ".py",
   "mimetype": "text/x-python",
   "name": "python",
   "nbconvert_exporter": "python",
   "pygments_lexer": "ipython2",
   "version": "2.7.17"
  }
 },
 "nbformat": 4,
 "nbformat_minor": 2
}
